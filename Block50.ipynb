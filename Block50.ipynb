{
 "cells": [
  {
   "cell_type": "code",
   "execution_count": null,
   "metadata": {},
   "outputs": [],
   "source": [
    "import numpy as np\n",
    "import matplotlib.pylab as plt\n",
    "import os\n",
    "import Methods as ms\n",
    "from Methods import CGT"
   ]
  },
  {
   "cell_type": "markdown",
   "metadata": {},
   "source": [
    "## Construct CGT Objects (at different T)"
   ]
  },
  {
   "cell_type": "code",
   "execution_count": null,
   "metadata": {},
   "outputs": [],
   "source": [
    "#Temperatures tested\n",
    "temps = [0.5, 1, 2, 5]"
   ]
  },
  {
   "cell_type": "code",
   "execution_count": null,
   "metadata": {},
   "outputs": [],
   "source": [
    "#T = 0.5\n",
    "f = [0, 0.5, 1, 2, 5]\n",
    "t = 0.5\n",
    "Rgfolder = '../Data/Block50/Radius of gyration/ForcesT05'\n",
    "Reefolder = '../Data/Block50/End-to-end distance/ForcesT05'\n",
    "Rgpaths = []\n",
    "Reepaths = []\n",
    "for path in os.listdir(Rgfolder):\n",
    "    Rgpaths.append(Rgfolder + '/' + path)\n",
    "\n",
    "for path in os.listdir(Reefolder):\n",
    "    Reepaths.append(Reefolder + '/' + path)\n",
    "\n",
    "CGT05 = CGT(f, t, Rgpaths, Reepaths)"
   ]
  },
  {
   "cell_type": "code",
   "execution_count": null,
   "metadata": {},
   "outputs": [],
   "source": [
    "#T = 1\n",
    "f = [0, 0.5, 1, 2, 5]\n",
    "t = 1\n",
    "Rgfolder = '../Data/Block50/Radius of gyration/ForcesT1'\n",
    "Reefolder = '../Data/Block50/End-to-end distance/ForcesT1'\n",
    "Rgpaths = []\n",
    "Reepaths = []\n",
    "for path in os.listdir(Rgfolder):\n",
    "    Rgpaths.append(Rgfolder + '/' + path)\n",
    "\n",
    "for path in os.listdir(Reefolder):\n",
    "    Reepaths.append(Reefolder + '/' + path)\n",
    "\n",
    "CGT1 = CGT(f, t, Rgpaths, Reepaths)"
   ]
  },
  {
   "cell_type": "code",
   "execution_count": null,
   "metadata": {},
   "outputs": [],
   "source": [
    "#T = 2\n",
    "f = [0,  0.5, 1, 2, 5]\n",
    "t = 2\n",
    "Rgfolder = '../Data/Block50/Radius of gyration/ForcesT2'\n",
    "Reefolder = '../Data/Block50/End-to-end distance/ForcesT2'\n",
    "Rgpaths = []\n",
    "Reepaths = []\n",
    "for path in os.listdir(Rgfolder):\n",
    "    Rgpaths.append(Rgfolder + '/' + path)\n",
    "\n",
    "for path in os.listdir(Reefolder):\n",
    "    Reepaths.append(Reefolder + '/' + path)\n",
    "\n",
    "CGT2 = CGT(f, t, Rgpaths, Reepaths)"
   ]
  },
  {
   "cell_type": "code",
   "execution_count": null,
   "metadata": {},
   "outputs": [],
   "source": [
    "#T = 5\n",
    "f = [0,  0.5, 1, 2, 5]\n",
    "t = 5\n",
    "Rgfolder = '../Data/Block50/Radius of gyration/ForcesT5'\n",
    "Reefolder = '../Data/Block50/End-to-end distance/ForcesT5'\n",
    "Rgpaths = []\n",
    "Reepaths = []\n",
    "for path in os.listdir(Rgfolder):\n",
    "    Rgpaths.append(Rgfolder + '/' + path)\n",
    "\n",
    "for path in os.listdir(Reefolder):\n",
    "    Reepaths.append(Reefolder + '/' + path)\n",
    "\n",
    "CGT5 = CGT(f, t, Rgpaths, Reepaths)"
   ]
  },
  {
   "cell_type": "markdown",
   "metadata": {},
   "source": [
    "## Tf-Extension under constant force"
   ]
  },
  {
   "cell_type": "code",
   "execution_count": null,
   "metadata": {},
   "outputs": [],
   "source": [
    "lsCGT = [CGT05,CGT1,CGT2,CGT5]\n",
    "forces = ms.lsForces(lsCGT)\n",
    "print(forces)"
   ]
  },
  {
   "cell_type": "code",
   "execution_count": null,
   "metadata": {},
   "outputs": [],
   "source": [
    "ms.Plot(lsCGT, 0, \"Rg\")"
   ]
  },
  {
   "cell_type": "code",
   "execution_count": null,
   "metadata": {},
   "outputs": [],
   "source": [
    "ms.Plot(lsCGT, 0.5, \"Rg\")"
   ]
  },
  {
   "cell_type": "code",
   "execution_count": null,
   "metadata": {},
   "outputs": [],
   "source": [
    "ms.Plot(lsCGT, 1, \"Rg\")"
   ]
  },
  {
   "cell_type": "code",
   "execution_count": null,
   "metadata": {},
   "outputs": [],
   "source": [
    "ms.Plot(lsCGT, 2, \"Rg\")"
   ]
  },
  {
   "cell_type": "code",
   "execution_count": null,
   "metadata": {},
   "outputs": [],
   "source": [
    "ms.Plot(lsCGT, 5, \"Rg\")"
   ]
  },
  {
   "cell_type": "code",
   "execution_count": null,
   "metadata": {},
   "outputs": [],
   "source": [
    "ms.Plot(lsCGT, 0, \"Ree\")"
   ]
  },
  {
   "cell_type": "code",
   "execution_count": null,
   "metadata": {},
   "outputs": [],
   "source": [
    "ms.Plot(lsCGT, 0.5, \"Ree\")"
   ]
  },
  {
   "cell_type": "code",
   "execution_count": null,
   "metadata": {},
   "outputs": [],
   "source": [
    "ms.Plot(lsCGT, 1, \"Ree\")"
   ]
  },
  {
   "cell_type": "code",
   "execution_count": null,
   "metadata": {},
   "outputs": [],
   "source": [
    "ms.Plot(lsCGT, 2, \"Ree\")"
   ]
  },
  {
   "cell_type": "code",
   "execution_count": null,
   "metadata": {},
   "outputs": [],
   "source": [
    "ms.Plot(lsCGT, 5, \"Ree\")"
   ]
  },
  {
   "cell_type": "markdown",
   "metadata": {},
   "source": [
    "## Temperature Extension"
   ]
  },
  {
   "cell_type": "code",
   "execution_count": null,
   "metadata": {},
   "outputs": [],
   "source": [
    "for f in forces:\n",
    "    data = []\n",
    "    for cgt in lsCGT:\n",
    "        i = cgt.f.index(f)\n",
    "        data.append(cgt.aveRg[i])\n",
    "    plt.plot(temps, data, label = 'F = ' + str(f))\n",
    "\n",
    "plt.xlabel('$k_{B} T$', fontsize=16)\n",
    "plt.ylabel('<$R_{g}$>', fontsize=16)\n",
    "plt.legend(frameon=False)\n",
    "plt.title(\"Temperature vs Rg\")\n",
    "plt.savefig('../Data/Block50/Figures/TvsRg')"
   ]
  },
  {
   "cell_type": "code",
   "execution_count": null,
   "metadata": {},
   "outputs": [],
   "source": [
    "for f in forces:\n",
    "    data = []\n",
    "    for cgt in lsCGT:\n",
    "        i = cgt.f.index(f)\n",
    "        data.append(cgt.aveRee[i])\n",
    "    plt.plot(temps, data, label = 'F = ' + str(f))\n",
    "\n",
    "plt.xlabel('$k_{B} T$', fontsize=16)\n",
    "plt.ylabel('<$R_{ee}$>', fontsize=16)\n",
    "plt.legend(frameon=False)\n",
    "plt.title(\"Temperature vs Ree\")\n",
    "plt.savefig('../Data/Block50/Figures/TvsRee')"
   ]
  },
  {
   "cell_type": "markdown",
   "metadata": {},
   "source": [
    "## Force Extension"
   ]
  },
  {
   "cell_type": "code",
   "execution_count": null,
   "metadata": {},
   "outputs": [],
   "source": [
    "#Rg\n",
    "for cgt in lsCGT:\n",
    "    plt.plot(cgt.f, cgt.aveRg, 'o-', label = 'T = ' + str(cgt.t))\n",
    "\n",
    "plt.legend()\n",
    "plt.xlabel('Force')\n",
    "plt.ylabel('<Rg>')\n",
    "plt.title('Force-Rg')\n",
    "plt.savefig('../Data/Block50/Figures/FvsRg')"
   ]
  },
  {
   "cell_type": "code",
   "execution_count": null,
   "metadata": {},
   "outputs": [],
   "source": [
    "#Ree\n",
    "for cgt in lsCGT:\n",
    "    plt.plot(cgt.f, cgt.aveRee, 'o-', label = 'T = ' + str(cgt.t))\n",
    "\n",
    "plt.legend()\n",
    "plt.xlabel('Force')\n",
    "plt.ylabel('<Ree>')\n",
    "plt.title('Force-Ree')\n",
    "plt.savefig('../Data/Block50/Figures/FvsRee')"
   ]
  },
  {
   "cell_type": "code",
   "execution_count": null,
   "metadata": {},
   "outputs": [],
   "source": [
    "for cgt in lsCGT:\n",
    "    force = np.array(cgt.f)\n",
    "    Ree = np.array(cgt.aveRee)\n",
    "    plt.plot(force / cgt.t, Ree / 100, 'o-', label = 'T = ' + str(cgt.t))\n",
    "\n",
    "plt.xlabel('$fb/kT$', fontsize=16)\n",
    "plt.ylabel('<$R_{ee}$/Nb>', fontsize=16)\n",
    "plt.legend(frameon=False)\n",
    "plt.title(\"fb/kT vs. Ree\")\n",
    "plt.savefig('../Data/Block50/Figures/Fbkt vs Ree')"
   ]
  }
 ],
 "metadata": {
  "kernelspec": {
   "display_name": "base",
   "language": "python",
   "name": "python3"
  },
  "language_info": {
   "codemirror_mode": {
    "name": "ipython",
    "version": 3
   },
   "file_extension": ".py",
   "mimetype": "text/x-python",
   "name": "python",
   "nbconvert_exporter": "python",
   "pygments_lexer": "ipython3",
   "version": "3.8.8"
  }
 },
 "nbformat": 4,
 "nbformat_minor": 2
}
